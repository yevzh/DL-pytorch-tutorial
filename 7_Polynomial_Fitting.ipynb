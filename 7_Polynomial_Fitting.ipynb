{
 "cells": [
  {
   "attachments": {},
   "cell_type": "markdown",
   "metadata": {},
   "source": [
    "# 多项式函数拟合实验"
   ]
  },
  {
   "cell_type": "code",
   "execution_count": 4,
   "metadata": {},
   "outputs": [],
   "source": [
    "import collections\n",
    "import math\n",
    "import os\n",
    "import random\n",
    "import sys\n",
    "import tarfile\n",
    "import time\n",
    "import json\n",
    "import zipfile\n",
    "from tqdm import tqdm\n",
    "from PIL import Image\n",
    "from collections import namedtuple\n",
    "\n",
    "from IPython import display\n",
    "from matplotlib import pyplot as plt\n",
    "import torch\n",
    "from torch import nn\n",
    "from torch.nn import init\n",
    "import torch.nn.functional as F\n",
    "import torchvision\n",
    "import torchvision.transforms as transforms\n",
    "import torchtext\n",
    "import torchtext.vocab as Vocab\n",
    "import numpy as np\n"
   ]
  },
  {
   "attachments": {},
   "cell_type": "markdown",
   "metadata": {},
   "source": [
    "## 生成数据集\n",
    "在这里我们生成一个人工数据集，我们使用如下的三阶多项式函数来生成样本的标签：\n",
    "$$\n",
    "y=1.2x-3.4x^2+5.6x^3+5+\\epsilon\n",
    "$$\n",
    "其中噪声项ϵ服从均值为0、标准差为0.01的正态分布。训练数据集和测试数据集的样本数都设为100。"
   ]
  },
  {
   "cell_type": "code",
   "execution_count": 5,
   "metadata": {},
   "outputs": [],
   "source": [
    "n_train, n_test, true_w, true_b = 100, 100, [1.2, -3.4, 5.6], 5\n",
    "features = torch.randn((n_train + n_test,1))\n",
    "# poly_features将x,x^2,x^3拼接成每行三个数据，同时作为输入\n",
    "poly_features = torch.cat((features, torch.pow(features,2), torch.pow(features, 3)), 1)\n",
    "labels = (true_w[0] * poly_features[:, 0] + true_w[1] * poly_features[:, 1]  + true_w[2] * poly_features[:, 2] + true_b)\n",
    "labels += torch.tensor(np.random.normal(0, 0.01, size=labels.size()), dtype=torch.float)"
   ]
  },
  {
   "attachments": {},
   "cell_type": "markdown",
   "metadata": {},
   "source": [
    "看看数据集的前两个样本："
   ]
  },
  {
   "cell_type": "code",
   "execution_count": 6,
   "metadata": {},
   "outputs": [
    {
     "data": {
      "text/plain": [
       "(tensor([[0.1441],\n",
       "         [0.2979]]),\n",
       " tensor([[0.1441, 0.0208, 0.0030],\n",
       "         [0.2979, 0.0888, 0.0264]]),\n",
       " tensor([5.1137, 5.1887]))"
      ]
     },
     "execution_count": 6,
     "metadata": {},
     "output_type": "execute_result"
    }
   ],
   "source": [
    "features[:2], poly_features[:2], labels[:2]"
   ]
  },
  {
   "attachments": {},
   "cell_type": "markdown",
   "metadata": {},
   "source": [
    "写一个作图函数`semilogy`"
   ]
  },
  {
   "cell_type": "code",
   "execution_count": 7,
   "metadata": {},
   "outputs": [],
   "source": [
    "def set_figsize(figsize=(3.5, 2.5)):\n",
    "    use_svg_display()\n",
    "    # 设置图的尺寸\n",
    "    plt.rcParams['figure.figsize'] = figsize\n",
    "\n",
    "def use_svg_display():\n",
    "    \"\"\"Use svg format to display plot in jupyter\"\"\"\n",
    "    display.set_matplotlib_formats('svg')\n",
    "\n",
    "def semilogy(x_vals, y_vals, x_label, y_label, x2_vals=None, y2_vals=None,\n",
    "             legend=None, figsize=(3.5, 2.5)):\n",
    "    set_figsize(figsize)\n",
    "    plt.xlabel(x_label)\n",
    "    plt.ylabel(y_label)\n",
    "    plt.semilogy(x_vals, y_vals)\n",
    "    if x2_vals and y2_vals:\n",
    "        plt.semilogy(x2_vals, y2_vals, linestyle=':')\n",
    "        plt.legend(legend)\n"
   ]
  },
  {
   "attachments": {},
   "cell_type": "markdown",
   "metadata": {},
   "source": [
    "## 训练模型"
   ]
  },
  {
   "cell_type": "code",
   "execution_count": 8,
   "metadata": {},
   "outputs": [],
   "source": [
    "num_epochs, loss = 1000, torch.nn.MSELoss()\n",
    "\n",
    "def train(train_features, test_features, train_labels, test_labels):\n",
    "    net = torch.nn.Linear(train_features.shape[-1], 1)\n",
    "    batch_size = 10\n",
    "    data_set = torch.utils.data.TensorDataset(train_features, train_labels)\n",
    "    train_iter = torch.utils.data.DataLoader(data_set, batch_size, shuffle=True)\n",
    "    optimizer = torch.optim.SGD(net.parameters(), lr = 0.01)\n",
    "     \n",
    "    for epoch in range(num_epochs):\n",
    "        for X, y in train_iter:\n",
    "            l = loss(net(X), y.view(-1, 1))\n",
    "            optimizer.zero_grad()\n",
    "            l.backward()\n",
    "            optimizer.step()\n",
    "            \n",
    "    train_loss=loss(net(train_features),train_labels.view(-1,1)).item()\n",
    "    test_loss=loss(net(test_features),test_labels.view(-1,1)).item()\n",
    "    print('train loss', train_loss, '\\ntest loss', test_loss)\n",
    "    print('\\ntrue_w',true_w, '\\ntrue_b',true_b)\n",
    "    print('\\nout_w:',net.weight.data, '\\nout_b',net.bias.data)"
   ]
  },
  {
   "attachments": {},
   "cell_type": "markdown",
   "metadata": {},
   "source": [
    "正常拟合"
   ]
  },
  {
   "cell_type": "code",
   "execution_count": 9,
   "metadata": {},
   "outputs": [
    {
     "name": "stdout",
     "output_type": "stream",
     "text": [
      "train loss 8.197781426133588e-05 \n",
      "test loss 9.133313869824633e-05\n",
      "\n",
      "true_w [1.2, -3.4, 5.6] \n",
      "true_b 5\n",
      "\n",
      "out_w: tensor([[ 1.1976, -3.4008,  5.6010]]) \n",
      "out_b tensor([4.9987])\n"
     ]
    }
   ],
   "source": [
    "train_features = poly_features[:n_train, :]\n",
    "test_features = poly_features[n_train:,:]\n",
    "train_labels = labels[:n_train]\n",
    "test_labels = labels[n_train:]\n",
    "train(train_features, test_features,train_labels, test_labels)"
   ]
  },
  {
   "attachments": {},
   "cell_type": "markdown",
   "metadata": {},
   "source": [
    "训练样本过少，过拟合"
   ]
  },
  {
   "cell_type": "code",
   "execution_count": 10,
   "metadata": {},
   "outputs": [
    {
     "name": "stdout",
     "output_type": "stream",
     "text": [
      "train loss 0.053821295499801636 \n",
      "test loss 1.8260118961334229\n",
      "\n",
      "true_w [1.2, -3.4, 5.6] \n",
      "true_b 5\n",
      "\n",
      "out_w: tensor([[ 1.9386, -3.3896,  4.7793]]) \n",
      "out_b tensor([5.0379])\n"
     ]
    }
   ],
   "source": [
    "train_features=poly_features[:10,:]\n",
    "test_features=poly_features[10:,:]\n",
    "train_labels=labels[:10]\n",
    "test_labels=labels[10:]\n",
    "train(train_features,test_features,train_labels,test_labels)"
   ]
  },
  {
   "cell_type": "code",
   "execution_count": 11,
   "metadata": {},
   "outputs": [
    {
     "name": "stdout",
     "output_type": "stream",
     "text": [
      "train loss 29.963733673095703 \n",
      "test loss 100.70545959472656\n",
      "\n",
      "true_w [1.2, -3.4, 5.6] \n",
      "true_b 5\n",
      "\n",
      "out_w: tensor([[10.9593]]) \n",
      "out_b tensor([2.5417])\n"
     ]
    }
   ],
   "source": [
    "# train_features=poly_features[:n_train,0].view(-1,1) #或者直接用features[...,:]\n",
    "# poly_features[100,0]size为[100](一维)，需要加view后size为[100,1]，才可与net运算\n",
    "train_features = features[:n_train,:]\n",
    "test_features = features[n_train:,:]\n",
    "# test_features=poly_features[n_train:,0].view(-1,1)\n",
    "train_labels=labels[:n_train]\n",
    "test_labels=labels[n_train:]\n",
    "train(train_features,test_features,train_labels,test_labels)"
   ]
  }
 ],
 "metadata": {
  "kernelspec": {
   "display_name": "pytorch",
   "language": "python",
   "name": "python3"
  },
  "language_info": {
   "codemirror_mode": {
    "name": "ipython",
    "version": 3
   },
   "file_extension": ".py",
   "mimetype": "text/x-python",
   "name": "python",
   "nbconvert_exporter": "python",
   "pygments_lexer": "ipython3",
   "version": "3.9.13"
  },
  "orig_nbformat": 4,
  "vscode": {
   "interpreter": {
    "hash": "c9bb90c8c31d02c70dc2c25559c9d82f9e11e69c39856b10e40706be7daafd48"
   }
  }
 },
 "nbformat": 4,
 "nbformat_minor": 2
}
