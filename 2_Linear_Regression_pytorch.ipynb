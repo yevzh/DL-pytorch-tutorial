{
 "cells": [
  {
   "attachments": {},
   "cell_type": "markdown",
   "metadata": {},
   "source": [
    "# Linear Regression Simplification"
   ]
  },
  {
   "cell_type": "code",
   "execution_count": 1,
   "metadata": {},
   "outputs": [],
   "source": [
    "import torch\n",
    "from torch import nn\n",
    "from torch.nn import init\n",
    "import torch.optim as optim\n",
    "from IPython import display\n",
    "import matplotlib.pyplot as plt\n",
    "import numpy as np\n",
    "import random"
   ]
  },
  {
   "attachments": {},
   "cell_type": "markdown",
   "metadata": {},
   "source": [
    "##  生成数据集\n",
    "我们生成与上一节相同的数据集，其中`features`是训练数据特征，`labels`是标签。"
   ]
  },
  {
   "cell_type": "code",
   "execution_count": 2,
   "metadata": {},
   "outputs": [],
   "source": [
    "num_inputs = 2\n",
    "num_examples = 1000\n",
    "true_w = [2, -3.4]\n",
    "true_b = 4.2\n",
    "features = torch.tensor(np.random.normal(0, 1, (num_examples, num_inputs)), dtype=torch.float)\n",
    "labels = true_w[0] * features[:, 0] + true_w[1] * features[:, 1] + true_b\n",
    "labels += torch.tensor(np.random.normal(0, 0.01, size=labels.size()), dtype=torch.float)\n"
   ]
  },
  {
   "attachments": {},
   "cell_type": "markdown",
   "metadata": {},
   "source": [
    "## 读取数据\n",
    "PyTorch提供了`data`包来读取数据。由于`data`常用作变量名，我们将导入的`data`模块用`Data`代替。在每一次迭代中，我们将随机读取包含10个样本的小批量。"
   ]
  },
  {
   "cell_type": "code",
   "execution_count": 3,
   "metadata": {},
   "outputs": [],
   "source": [
    "import torch.utils.data as Data\n",
    "batch_size = 10\n",
    "# 将训练数据的特征和标签组合\n",
    "dataset = Data.TensorDataset(features, labels)\n",
    "# 随机读取小批量\n",
    "data_iter = Data.DataLoader(dataset, batch_size, shuffle=True)"
   ]
  },
  {
   "attachments": {},
   "cell_type": "markdown",
   "metadata": {},
   "source": [
    "这里的`data_iter`和上一节中的一样。让我们读取并打印小批量数据样本。"
   ]
  },
  {
   "cell_type": "code",
   "execution_count": 4,
   "metadata": {},
   "outputs": [
    {
     "name": "stdout",
     "output_type": "stream",
     "text": [
      "tensor([[-0.1077,  0.1232],\n",
      "        [ 0.7395, -0.1198],\n",
      "        [-0.0103, -0.1667],\n",
      "        [ 0.4532, -0.3093],\n",
      "        [-0.0239, -0.1294],\n",
      "        [-1.2711, -0.3985],\n",
      "        [-0.4077, -0.4142],\n",
      "        [-0.1354, -1.0492],\n",
      "        [ 0.4705,  2.0373],\n",
      "        [ 0.7285,  0.0969]]) tensor([ 3.5654,  6.0888,  4.7463,  6.1763,  4.5841,  3.0012,  4.7873,  7.5019,\n",
      "        -1.7898,  5.3205])\n"
     ]
    }
   ],
   "source": [
    "for X, y in data_iter:\n",
    "    print(X, y)\n",
    "    break"
   ]
  },
  {
   "attachments": {},
   "cell_type": "markdown",
   "metadata": {},
   "source": [
    "## 定义模型\n",
    "PyTorch提供了大量预定义的层，这使我们只需关注使用哪些层来构造模型。下面将介绍如何使用PyTorch更简洁地定义线性回归。\n",
    "首先导入`torch.nn`模块。之前我们使用了`autograd`这里`nn`就是使用了`autograd`来定义模型。`nn`的核心数据结构是`Module`，它是一个抽象概念，可以表示神经网络中的某个层，也可以表示一个包含很多层的神经网络。在实际使用中，最常见的做法是继承`nn.Module`，撰写自己的网络/层。一个`nn.Module`实例应该包含一些层以及返回输出的前向传播(forward)方法。下面先来看看如何用`nn.Module`实现一个线性回归模型。"
   ]
  },
  {
   "cell_type": "code",
   "execution_count": 5,
   "metadata": {},
   "outputs": [
    {
     "name": "stdout",
     "output_type": "stream",
     "text": [
      "LinearNet(\n",
      "  (linear): Linear(in_features=2, out_features=1, bias=True)\n",
      ")\n"
     ]
    }
   ],
   "source": [
    "import torch.nn\n",
    "# 方法一：继承nn.Module自定义网络\n",
    "class LinearNet(nn.Module):\n",
    "    def __init__(self, n_feature):\n",
    "        super(LinearNet, self).__init__()\n",
    "        self.linear = nn.Linear(n_feature, 1)\n",
    "    def forward(self, x):\n",
    "        y = self.linear(x)\n",
    "        return y\n",
    "net = LinearNet(num_inputs)\n",
    "print(net)"
   ]
  },
  {
   "cell_type": "code",
   "execution_count": 7,
   "metadata": {},
   "outputs": [
    {
     "name": "stdout",
     "output_type": "stream",
     "text": [
      "Sequential(\n",
      "  (linear): Linear(in_features=2, out_features=1, bias=True)\n",
      ")\n"
     ]
    }
   ],
   "source": [
    "# 方法二： ；利用nn.Sequential容器顺序加入层\n",
    "from collections import OrderedDict\n",
    "net = nn.Sequential(OrderedDict([\n",
    "          ('linear', nn.Linear(num_inputs, 1))\n",
    "          # ......\n",
    "        ]))\n",
    "print(net)\n"
   ]
  },
  {
   "attachments": {},
   "cell_type": "markdown",
   "metadata": {},
   "source": [
    "可以通过`net.parameters()`来查看模型所有的可学习参数，此函数将返回一个生成器。"
   ]
  },
  {
   "cell_type": "code",
   "execution_count": 8,
   "metadata": {},
   "outputs": [
    {
     "name": "stdout",
     "output_type": "stream",
     "text": [
      "Parameter containing:\n",
      "tensor([[ 0.3072, -0.6821]], requires_grad=True)\n",
      "Parameter containing:\n",
      "tensor([-0.7018], requires_grad=True)\n"
     ]
    }
   ],
   "source": [
    "for param in net.parameters():\n",
    "    print(param)"
   ]
  },
  {
   "attachments": {},
   "cell_type": "markdown",
   "metadata": {},
   "source": [
    "## 初始化模型参数\n",
    "在使用`net`前，我们需要初始化模型参数，如线性回归模型中的权重和偏差。PyTorch在`init`模块中提供了多种参数初始化方法。通过`init.normal_`将权重参数每个元素初始化为随机采样于均值为0、标准差为0.01的正态分布。偏差初始化为0。 "
   ]
  },
  {
   "cell_type": "code",
   "execution_count": 11,
   "metadata": {},
   "outputs": [
    {
     "data": {
      "text/plain": [
       "Parameter containing:\n",
       "tensor([0.], requires_grad=True)"
      ]
     },
     "execution_count": 11,
     "metadata": {},
     "output_type": "execute_result"
    }
   ],
   "source": [
    "init.normal_(net[0].weight, mean=0, std=0.01)\n",
    "init.constant_(net[0].bias, val=0)"
   ]
  },
  {
   "attachments": {},
   "cell_type": "markdown",
   "metadata": {},
   "source": [
    "## 定义损失函数\n",
    "我们采用PyTorch的均方误差损失作为模型的损失函数。"
   ]
  },
  {
   "cell_type": "code",
   "execution_count": 12,
   "metadata": {},
   "outputs": [],
   "source": [
    "loss = nn.MSELoss()"
   ]
  },
  {
   "attachments": {},
   "cell_type": "markdown",
   "metadata": {},
   "source": [
    "## 定义优化算法\n",
    "我们无须自己实现小批量随机梯度下降算法。`torch.optim`模块提供了很多常用的优化算法比如SGD、Adam等。下面我们创建一个用于优化`net`所有参数的优化器实例。"
   ]
  },
  {
   "cell_type": "code",
   "execution_count": 13,
   "metadata": {},
   "outputs": [
    {
     "name": "stdout",
     "output_type": "stream",
     "text": [
      "SGD (\n",
      "Parameter Group 0\n",
      "    dampening: 0\n",
      "    foreach: None\n",
      "    lr: 0.001\n",
      "    maximize: False\n",
      "    momentum: 0\n",
      "    nesterov: False\n",
      "    weight_decay: 0\n",
      ")\n"
     ]
    }
   ],
   "source": [
    "optimizer = optim.SGD(net.parameters(), lr = 0.001)\n",
    "print(optimizer)"
   ]
  },
  {
   "attachments": {},
   "cell_type": "markdown",
   "metadata": {},
   "source": [
    "## 训练模型"
   ]
  },
  {
   "cell_type": "code",
   "execution_count": 18,
   "metadata": {},
   "outputs": [
    {
     "name": "stdout",
     "output_type": "stream",
     "text": [
      "epoch 1, loss: 0.000111\n",
      "epoch 2, loss: 0.000151\n",
      "epoch 3, loss: 0.000138\n",
      "epoch 4, loss: 0.000069\n",
      "epoch 5, loss: 0.000032\n",
      "epoch 6, loss: 0.000119\n",
      "epoch 7, loss: 0.000098\n",
      "epoch 8, loss: 0.000079\n",
      "epoch 9, loss: 0.000042\n",
      "epoch 10, loss: 0.000093\n",
      "epoch 11, loss: 0.000102\n",
      "epoch 12, loss: 0.000058\n",
      "epoch 13, loss: 0.000138\n",
      "epoch 14, loss: 0.000074\n",
      "epoch 15, loss: 0.000111\n",
      "epoch 16, loss: 0.000060\n",
      "epoch 17, loss: 0.000045\n",
      "epoch 18, loss: 0.000062\n",
      "epoch 19, loss: 0.000079\n",
      "epoch 20, loss: 0.000129\n",
      "epoch 21, loss: 0.000029\n",
      "epoch 22, loss: 0.000087\n",
      "epoch 23, loss: 0.000081\n",
      "epoch 24, loss: 0.000054\n",
      "epoch 25, loss: 0.000070\n",
      "epoch 26, loss: 0.000137\n",
      "epoch 27, loss: 0.000227\n",
      "epoch 28, loss: 0.000120\n",
      "epoch 29, loss: 0.000072\n",
      "epoch 30, loss: 0.000086\n",
      "epoch 31, loss: 0.000136\n",
      "epoch 32, loss: 0.000025\n",
      "epoch 33, loss: 0.000078\n",
      "epoch 34, loss: 0.000128\n",
      "epoch 35, loss: 0.000075\n",
      "epoch 36, loss: 0.000127\n",
      "epoch 37, loss: 0.000121\n",
      "epoch 38, loss: 0.000205\n",
      "epoch 39, loss: 0.000070\n",
      "epoch 40, loss: 0.000025\n",
      "epoch 41, loss: 0.000115\n",
      "epoch 42, loss: 0.000137\n",
      "epoch 43, loss: 0.000108\n",
      "epoch 44, loss: 0.000066\n",
      "epoch 45, loss: 0.000077\n",
      "epoch 46, loss: 0.000082\n",
      "epoch 47, loss: 0.000057\n",
      "epoch 48, loss: 0.000051\n",
      "epoch 49, loss: 0.000080\n",
      "epoch 50, loss: 0.000053\n",
      "epoch 51, loss: 0.000163\n",
      "epoch 52, loss: 0.000125\n",
      "epoch 53, loss: 0.000060\n",
      "epoch 54, loss: 0.000168\n",
      "epoch 55, loss: 0.000052\n",
      "epoch 56, loss: 0.000046\n",
      "epoch 57, loss: 0.000084\n",
      "epoch 58, loss: 0.000086\n",
      "epoch 59, loss: 0.000078\n",
      "epoch 60, loss: 0.000043\n",
      "epoch 61, loss: 0.000072\n",
      "epoch 62, loss: 0.000097\n",
      "epoch 63, loss: 0.000088\n",
      "epoch 64, loss: 0.000068\n",
      "epoch 65, loss: 0.000095\n",
      "epoch 66, loss: 0.000135\n",
      "epoch 67, loss: 0.000024\n",
      "epoch 68, loss: 0.000095\n",
      "epoch 69, loss: 0.000131\n",
      "epoch 70, loss: 0.000123\n",
      "epoch 71, loss: 0.000186\n",
      "epoch 72, loss: 0.000133\n",
      "epoch 73, loss: 0.000150\n",
      "epoch 74, loss: 0.000144\n",
      "epoch 75, loss: 0.000130\n",
      "epoch 76, loss: 0.000031\n",
      "epoch 77, loss: 0.000049\n",
      "epoch 78, loss: 0.000164\n",
      "epoch 79, loss: 0.000096\n",
      "epoch 80, loss: 0.000074\n",
      "epoch 81, loss: 0.000058\n",
      "epoch 82, loss: 0.000084\n",
      "epoch 83, loss: 0.000020\n",
      "epoch 84, loss: 0.000076\n",
      "epoch 85, loss: 0.000085\n",
      "epoch 86, loss: 0.000108\n",
      "epoch 87, loss: 0.000064\n",
      "epoch 88, loss: 0.000045\n",
      "epoch 89, loss: 0.000080\n",
      "epoch 90, loss: 0.000066\n",
      "epoch 91, loss: 0.000110\n",
      "epoch 92, loss: 0.000072\n",
      "epoch 93, loss: 0.000097\n",
      "epoch 94, loss: 0.000055\n",
      "epoch 95, loss: 0.000144\n",
      "epoch 96, loss: 0.000100\n",
      "epoch 97, loss: 0.000057\n",
      "epoch 98, loss: 0.000065\n",
      "epoch 99, loss: 0.000117\n",
      "epoch 100, loss: 0.000118\n"
     ]
    }
   ],
   "source": [
    "num_epoch = 100\n",
    "for epoch in range(1, num_epoch + 1):\n",
    "    for X, y in data_iter:\n",
    "        output = net(X)\n",
    "        l = loss(output, y.view(-1,1))\n",
    "        optimizer.zero_grad() # 梯度清零\n",
    "        l.backward()\n",
    "        optimizer.step()\n",
    "    print('epoch %d, loss: %f' % (epoch, l.item()))"
   ]
  },
  {
   "cell_type": "code",
   "execution_count": 19,
   "metadata": {},
   "outputs": [
    {
     "name": "stdout",
     "output_type": "stream",
     "text": [
      "[2, -3.4] Parameter containing:\n",
      "tensor([[ 1.9995, -3.3994]], requires_grad=True)\n",
      "4.2 Parameter containing:\n",
      "tensor([4.1996], requires_grad=True)\n"
     ]
    }
   ],
   "source": [
    "dense = net[0]\n",
    "print(true_w, dense.weight)\n",
    "print(true_b, dense.bias)"
   ]
  }
 ],
 "metadata": {
  "kernelspec": {
   "display_name": "pytorch",
   "language": "python",
   "name": "python3"
  },
  "language_info": {
   "codemirror_mode": {
    "name": "ipython",
    "version": 3
   },
   "file_extension": ".py",
   "mimetype": "text/x-python",
   "name": "python",
   "nbconvert_exporter": "python",
   "pygments_lexer": "ipython3",
   "version": "3.9.13"
  },
  "orig_nbformat": 4,
  "vscode": {
   "interpreter": {
    "hash": "c9bb90c8c31d02c70dc2c25559c9d82f9e11e69c39856b10e40706be7daafd48"
   }
  }
 },
 "nbformat": 4,
 "nbformat_minor": 2
}
