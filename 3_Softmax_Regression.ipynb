{
 "cells": [
  {
   "attachments": {},
   "cell_type": "markdown",
   "metadata": {},
   "source": [
    "# softmax回归的从零开始实现"
   ]
  },
  {
   "cell_type": "code",
   "execution_count": 17,
   "metadata": {},
   "outputs": [],
   "source": [
    "import collections\n",
    "import math\n",
    "import os\n",
    "import random\n",
    "import sys\n",
    "import tarfile\n",
    "import time\n",
    "import json\n",
    "import zipfile\n",
    "from tqdm import tqdm\n",
    "from PIL import Image\n",
    "from collections import namedtuple\n",
    "\n",
    "from IPython import display\n",
    "from matplotlib import pyplot as plt\n",
    "import torch\n",
    "from torch import nn\n",
    "import torch.nn.functional as F\n",
    "import torchvision\n",
    "import torchvision.transforms as transforms\n",
    "import torchtext\n",
    "import torchtext.vocab as Vocab\n",
    "import numpy as np\n"
   ]
  },
  {
   "attachments": {},
   "cell_type": "markdown",
   "metadata": {},
   "source": [
    "## 获取和读取数据\n",
    "在这里我们使用Fashion-MNIST数据集，并设置批量大小为256。"
   ]
  },
  {
   "cell_type": "code",
   "execution_count": 2,
   "metadata": {},
   "outputs": [],
   "source": [
    "def load_data_fashion_mnist(batch_size, root='~/Datasets/FashionMNIST'):\n",
    "    \"\"\"Download the fashion mnist dataset and then load into memory.\"\"\"\n",
    "    transform = transforms.ToTensor()\n",
    "    mnist_train = torchvision.datasets.FashionMNIST(root=root, train=True, download=True, transform=transform)\n",
    "    mnist_test = torchvision.datasets.FashionMNIST(root=root, train=False, download=True, transform=transform)\n",
    "    if sys.platform.startswith('win'):\n",
    "        num_workers = 0  # 0表示不用额外的进程来加速读取数据\n",
    "    else:\n",
    "        num_workers = 4\n",
    "    train_iter = torch.utils.data.DataLoader(mnist_train, batch_size=batch_size, shuffle=True, num_workers=num_workers)\n",
    "    test_iter = torch.utils.data.DataLoader(mnist_test, batch_size=batch_size, shuffle=False, num_workers=num_workers)\n",
    "\n",
    "    return train_iter, test_iter"
   ]
  },
  {
   "cell_type": "code",
   "execution_count": 5,
   "metadata": {},
   "outputs": [],
   "source": [
    "batch_size = 256\n",
    "train_iter, test_iter = load_data_fashion_mnist(batch_size)"
   ]
  },
  {
   "attachments": {},
   "cell_type": "markdown",
   "metadata": {},
   "source": [
    "## 初始化模型参数\n",
    "我们用向量表示每个样本。已知每个样本输入是高和宽均为28像素的图像。模型的输入向量长度为$28\\times 28 = 784$：该向量的每个元素对应图像中每个像素。由于图像有10个类别，单层神经网络输出层的输出个数为10，因此softmax回归的权重和偏差参数分别为$784\\times 10 和 1\\times 10$的矩阵。"
   ]
  },
  {
   "cell_type": "code",
   "execution_count": 6,
   "metadata": {},
   "outputs": [
    {
     "data": {
      "text/plain": [
       "tensor([0., 0., 0., 0., 0., 0., 0., 0., 0., 0.], requires_grad=True)"
      ]
     },
     "execution_count": 6,
     "metadata": {},
     "output_type": "execute_result"
    }
   ],
   "source": [
    "num_inputs = 784\n",
    "num_outputs = 10\n",
    "W = torch.tensor(np.random.normal(0, 0.01,(num_inputs, num_outputs)), dtype=torch.float)\n",
    "b = torch.zeros(num_outputs, dtype=torch.float)\n",
    "W.requires_grad_(requires_grad=True)\n",
    "b.requires_grad_(requires_grad=True)"
   ]
  },
  {
   "attachments": {},
   "cell_type": "markdown",
   "metadata": {},
   "source": [
    "和之前一样，我们需要模型参数梯度。"
   ]
  },
  {
   "attachments": {},
   "cell_type": "markdown",
   "metadata": {},
   "source": [
    "## 实现softmax运算"
   ]
  },
  {
   "cell_type": "code",
   "execution_count": 7,
   "metadata": {},
   "outputs": [],
   "source": [
    "def softmax(X):\n",
    "    X_exp = X.exp()\n",
    "    partition = X_exp.sum(dim = 1, keepdim = True)\n",
    "    return X_exp / partition # 这里应用广播机制"
   ]
  },
  {
   "cell_type": "code",
   "execution_count": 8,
   "metadata": {},
   "outputs": [
    {
     "name": "stdout",
     "output_type": "stream",
     "text": [
      "tensor([[0.2039, 0.1487, 0.2878, 0.2299, 0.1296],\n",
      "        [0.2012, 0.1195, 0.2984, 0.2498, 0.1310]]) tensor([1.0000, 1.0000])\n"
     ]
    }
   ],
   "source": [
    "# 一个小例子\n",
    "X = torch.rand((2,5))\n",
    "X_prob = softmax(X)\n",
    "print(X_prob, X_prob.sum(dim = 1))"
   ]
  },
  {
   "attachments": {},
   "cell_type": "markdown",
   "metadata": {},
   "source": [
    "## 定义模型\n",
    "通过`view`函数将每张原始图改成长度为`num_inputs`的向量"
   ]
  },
  {
   "cell_type": "code",
   "execution_count": 9,
   "metadata": {},
   "outputs": [],
   "source": [
    "def net(X):\n",
    "    return softmax(torch.mm(X.view((-1, num_inputs)),W)+b)"
   ]
  },
  {
   "attachments": {},
   "cell_type": "markdown",
   "metadata": {},
   "source": [
    "## 定义损失函数\n",
    "使用`gather`函数得到标签的预测概率。"
   ]
  },
  {
   "cell_type": "code",
   "execution_count": 10,
   "metadata": {},
   "outputs": [],
   "source": [
    "def cross_entropy(y_hat, y):\n",
    "    return -torch.log(y_hat.gather(1, y.view(-1, 1)))"
   ]
  },
  {
   "attachments": {},
   "cell_type": "markdown",
   "metadata": {},
   "source": [
    "## 计算分类准确率"
   ]
  },
  {
   "cell_type": "code",
   "execution_count": 11,
   "metadata": {},
   "outputs": [],
   "source": [
    "def accuracy(y_hat, y):\n",
    "    return (y_hat.argmax(dim=1)==y).float().mean().item()\n",
    "\n",
    "def evaluate_accuracy(data_iter, net):\n",
    "    acc_sum, n = 0.0, 0\n",
    "    for X, y in data_iter:\n",
    "        acc_sum += (net(X).argmax(dim=1)==y).float().sum().item()\n",
    "        n+=y.shape[0]\n",
    "    return acc_sum/n"
   ]
  },
  {
   "cell_type": "code",
   "execution_count": 12,
   "metadata": {},
   "outputs": [
    {
     "name": "stdout",
     "output_type": "stream",
     "text": [
      "0.1377\n"
     ]
    }
   ],
   "source": [
    "print(evaluate_accuracy(test_iter, net))"
   ]
  },
  {
   "attachments": {},
   "cell_type": "markdown",
   "metadata": {},
   "source": [
    "## 训练模型"
   ]
  },
  {
   "cell_type": "code",
   "execution_count": 14,
   "metadata": {},
   "outputs": [
    {
     "name": "stdout",
     "output_type": "stream",
     "text": [
      "epoch 1, loss 0.4274, train acc 0.854, test acc 0.837\n",
      "epoch 2, loss 0.4250, train acc 0.856, test acc 0.840\n",
      "epoch 3, loss 0.4238, train acc 0.856, test acc 0.841\n",
      "epoch 4, loss 0.4221, train acc 0.856, test acc 0.840\n",
      "epoch 5, loss 0.4195, train acc 0.856, test acc 0.841\n",
      "epoch 6, loss 0.4179, train acc 0.858, test acc 0.840\n",
      "epoch 7, loss 0.4180, train acc 0.857, test acc 0.838\n",
      "epoch 8, loss 0.4146, train acc 0.859, test acc 0.840\n",
      "epoch 9, loss 0.4144, train acc 0.859, test acc 0.842\n",
      "epoch 10, loss 0.4129, train acc 0.859, test acc 0.842\n"
     ]
    }
   ],
   "source": [
    "num_epochs, lr = 10, 0.1\n",
    "\n",
    "def sgd(params, lr, batch_size):\n",
    "    # 为了和原书保持一致，这里除以了batch_size，但是应该是不用除的，因为一般用PyTorch计算loss时就默认已经\n",
    "    # 沿batch维求了平均了。\n",
    "    for param in params:\n",
    "        param.data -= lr * param.grad / batch_size # 注意这里更改param时用的param.data\n",
    "\n",
    "\n",
    "# 本函数已保存在d2lzh包中方便以后使用\n",
    "def train(net, train_iter, test_iter, loss, num_epochs, batch_size,\n",
    "              params=None, lr=None, optimizer=None):\n",
    "    for epoch in range(num_epochs):\n",
    "        train_l_sum, train_acc_sum, n = 0.0, 0.0, 0\n",
    "        for X, y in train_iter:\n",
    "            y_hat = net(X)\n",
    "            l = loss(y_hat, y).sum()\n",
    "\n",
    "            # 梯度清零\n",
    "            for param in params:\n",
    "                param.grad.data.zero_()\n",
    "\n",
    "            l.backward()\n",
    "            sgd(params, lr, batch_size)\n",
    "\n",
    "\n",
    "            train_l_sum += l.item()\n",
    "            train_acc_sum += (y_hat.argmax(dim=1) == y).sum().item()\n",
    "            n += y.shape[0]\n",
    "        test_acc = evaluate_accuracy(test_iter, net)\n",
    "        print('epoch %d, loss %.4f, train acc %.3f, test acc %.3f'\n",
    "              % (epoch + 1, train_l_sum / n, train_acc_sum / n, test_acc))\n",
    "\n",
    "train(net, train_iter, test_iter, cross_entropy, num_epochs, batch_size, [W, b], lr)\n"
   ]
  },
  {
   "cell_type": "code",
   "execution_count": 18,
   "metadata": {},
   "outputs": [],
   "source": [
    "from IPython import display\n",
    "def get_fashion_mnist_labels(labels):\n",
    "    text_labels = ['t-shirt', 'trouser', 'pullover', 'dress', 'coat',\n",
    "                   'sandal', 'shirt', 'sneaker', 'bag', 'ankle boot']\n",
    "    return [text_labels[int(i)] for i in labels]\n",
    "\n",
    "def show_fashion_mnist(images, labels):\n",
    "    use_svg_display()\n",
    "    # 这里的_表示我们忽略（不使用）的变量\n",
    "    _, figs = plt.subplots(1, len(images), figsize=(12, 12))\n",
    "    for f, img, lbl in zip(figs, images, labels):\n",
    "        f.imshow(img.view((28, 28)).numpy())\n",
    "        f.set_title(lbl)\n",
    "        f.axes.get_xaxis().set_visible(False)\n",
    "        f.axes.get_yaxis().set_visible(False)\n",
    "def set_figsize(figsize=(3.5, 2.5)):\n",
    "    use_svg_display()\n",
    "    # 设置图的尺寸\n",
    "    plt.rcParams['figure.figsize'] = figsize\n",
    "\n",
    "def use_svg_display():\n",
    "    \"\"\"Use svg format to display plot in jupyter\"\"\"\n",
    "    display.set_matplotlib_formats('svg')"
   ]
  },
  {
   "cell_type": "code",
   "execution_count": 19,
   "metadata": {},
   "outputs": [
    {
     "name": "stderr",
     "output_type": "stream",
     "text": [
      "C:\\Users\\ZHANGWEIMING\\AppData\\Local\\Temp\\ipykernel_19336\\3265950703.py:23: DeprecationWarning: `set_matplotlib_formats` is deprecated since IPython 7.23, directly use `matplotlib_inline.backend_inline.set_matplotlib_formats()`\n",
      "  display.set_matplotlib_formats('svg')\n"
     ]
    },
    {
     "data": {
      "image/svg+xml": "<?xml version=\"1.0\" encoding=\"utf-8\" standalone=\"no\"?>\n<!DOCTYPE svg PUBLIC \"-//W3C//DTD SVG 1.1//EN\"\n  \"http://www.w3.org/Graphics/SVG/1.1/DTD/svg11.dtd\">\n<svg xmlns:xlink=\"http://www.w3.org/1999/xlink\" width=\"687.5pt\" height=\"109.625311pt\" viewBox=\"0 0 687.5 109.625311\" xmlns=\"http://www.w3.org/2000/svg\" version=\"1.1\">\n <metadata>\n  <rdf:RDF xmlns:dc=\"http://purl.org/dc/elements/1.1/\" xmlns:cc=\"http://creativecommons.org/ns#\" xmlns:rdf=\"http://www.w3.org/1999/02/22-rdf-syntax-ns#\">\n   <cc:Work>\n    <dc:type rdf:resource=\"http://purl.org/dc/dcmitype/StillImage\"/>\n    <dc:date>2023-02-07T11:54:24.812401</dc:date>\n    <dc:format>image/svg+xml</dc:format>\n    <dc:creator>\n     <cc:Agent>\n      <dc:title>Matplotlib v3.6.3, https://matplotlib.org/</dc:title>\n     </cc:Agent>\n    </dc:creator>\n   </cc:Work>\n  </rdf:RDF>\n </metadata>\n <defs>\n  <style type=\"text/css\">*{stroke-linejoin: round; stroke-linecap: butt}</style>\n </defs>\n <g id=\"figure_1\">\n  <g id=\"patch_1\">\n   <path d=\"M 0 109.625311 \nL 687.5 109.625311 \nL 687.5 -0 \nL 0 -0 \nz\n\" style=\"fill: #ffffff\"/>\n  </g>\n  <g id=\"axes_1\">\n   <g id=\"patch_2\">\n    <path d=\"M 10.7 98.925311 \nL 73.869811 98.925311 \nL 73.869811 35.7555 \nL 10.7 35.7555 \nz\n\" style=\"fill: #ffffff\"/>\n   </g>\n   <g clip-path=\"url(#pbffacf17de)\">\n    <image xlink:href=\"data:image/png;base64,\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\" id=\"imageebb01f86af\" transform=\"scale(1 -1) translate(0 -63.36)\" x=\"10.7\" y=\"-35.565311\" width=\"63.36\" height=\"63.36\"/>\n   </g>\n   <g id=\"patch_3\">\n    <path d=\"M 10.7 98.925311 \nL 10.7 35.7555 \n\" style=\"fill: none; stroke: #000000; stroke-width: 0.8; stroke-linejoin: miter; stroke-linecap: square\"/>\n   </g>\n   <g id=\"patch_4\">\n    <path d=\"M 73.869811 98.925311 \nL 73.869811 35.7555 \n\" style=\"fill: none; stroke: #000000; stroke-width: 0.8; stroke-linejoin: miter; stroke-linecap: square\"/>\n   </g>\n   <g id=\"patch_5\">\n    <path d=\"M 10.7 98.925311 \nL 73.869811 98.925311 \n\" style=\"fill: none; stroke: #000000; stroke-width: 0.8; stroke-linejoin: miter; stroke-linecap: square\"/>\n   </g>\n   <g id=\"patch_6\">\n    <path d=\"M 10.7 35.7555 \nL 73.869811 35.7555 \n\" style=\"fill: none; stroke: #000000; stroke-width: 0.8; stroke-linejoin: miter; stroke-linecap: square\"/>\n   </g>\n   <g id=\"text_1\">\n    <!-- bag -->\n    <g transform=\"translate(30.989906 16.318125) scale(0.12 -0.12)\">\n     <defs>\n      <path id=\"DejaVuSans-62\" d=\"M 3116 1747 \nQ 3116 2381 2855 2742 \nQ 2594 3103 2138 3103 \nQ 1681 3103 1420 2742 \nQ 1159 2381 1159 1747 \nQ 1159 1113 1420 752 \nQ 1681 391 2138 391 \nQ 2594 391 2855 752 \nQ 3116 1113 3116 1747 \nz\nM 1159 2969 \nQ 1341 3281 1617 3432 \nQ 1894 3584 2278 3584 \nQ 2916 3584 3314 3078 \nQ 3713 2572 3713 1747 \nQ 3713 922 3314 415 \nQ 2916 -91 2278 -91 \nQ 1894 -91 1617 61 \nQ 1341 213 1159 525 \nL 1159 0 \nL 581 0 \nL 581 4863 \nL 1159 4863 \nL 1159 2969 \nz\n\" transform=\"scale(0.015625)\"/>\n      <path id=\"DejaVuSans-61\" d=\"M 2194 1759 \nQ 1497 1759 1228 1600 \nQ 959 1441 959 1056 \nQ 959 750 1161 570 \nQ 1363 391 1709 391 \nQ 2188 391 2477 730 \nQ 2766 1069 2766 1631 \nL 2766 1759 \nL 2194 1759 \nz\nM 3341 1997 \nL 3341 0 \nL 2766 0 \nL 2766 531 \nQ 2569 213 2275 61 \nQ 1981 -91 1556 -91 \nQ 1019 -91 701 211 \nQ 384 513 384 1019 \nQ 384 1609 779 1909 \nQ 1175 2209 1959 2209 \nL 2766 2209 \nL 2766 2266 \nQ 2766 2663 2505 2880 \nQ 2244 3097 1772 3097 \nQ 1472 3097 1187 3025 \nQ 903 2953 641 2809 \nL 641 3341 \nQ 956 3463 1253 3523 \nQ 1550 3584 1831 3584 \nQ 2591 3584 2966 3190 \nQ 3341 2797 3341 1997 \nz\n\" transform=\"scale(0.015625)\"/>\n      <path id=\"DejaVuSans-67\" d=\"M 2906 1791 \nQ 2906 2416 2648 2759 \nQ 2391 3103 1925 3103 \nQ 1463 3103 1205 2759 \nQ 947 2416 947 1791 \nQ 947 1169 1205 825 \nQ 1463 481 1925 481 \nQ 2391 481 2648 825 \nQ 2906 1169 2906 1791 \nz\nM 3481 434 \nQ 3481 -459 3084 -895 \nQ 2688 -1331 1869 -1331 \nQ 1566 -1331 1297 -1286 \nQ 1028 -1241 775 -1147 \nL 775 -588 \nQ 1028 -725 1275 -790 \nQ 1522 -856 1778 -856 \nQ 2344 -856 2625 -561 \nQ 2906 -266 2906 331 \nL 2906 616 \nQ 2728 306 2450 153 \nQ 2172 0 1784 0 \nQ 1141 0 747 490 \nQ 353 981 353 1791 \nQ 353 2603 747 3093 \nQ 1141 3584 1784 3584 \nQ 2172 3584 2450 3431 \nQ 2728 3278 2906 2969 \nL 2906 3500 \nL 3481 3500 \nL 3481 434 \nz\n\" transform=\"scale(0.015625)\"/>\n     </defs>\n     <use xlink:href=\"#DejaVuSans-62\"/>\n     <use xlink:href=\"#DejaVuSans-61\" x=\"63.476562\"/>\n     <use xlink:href=\"#DejaVuSans-67\" x=\"124.755859\"/>\n    </g>\n    <!-- bag -->\n    <g transform=\"translate(30.989906 29.7555) scale(0.12 -0.12)\">\n     <use xlink:href=\"#DejaVuSans-62\"/>\n     <use xlink:href=\"#DejaVuSans-61\" x=\"63.476562\"/>\n     <use xlink:href=\"#DejaVuSans-67\" x=\"124.755859\"/>\n    </g>\n   </g>\n  </g>\n  <g id=\"axes_2\">\n   <g id=\"patch_7\">\n    <path d=\"M 86.503774 98.925311 \nL 149.673585 98.925311 \nL 149.673585 35.7555 \nL 86.503774 35.7555 \nz\n\" style=\"fill: #ffffff\"/>\n   </g>\n   <g clip-path=\"url(#p8989386bd1)\">\n    <image xlink:href=\"data:image/png;base64,\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\" id=\"imagea3b3b6ec84\" transform=\"scale(1 -1) translate(0 -63.36)\" x=\"86.503774\" y=\"-35.565311\" width=\"63.36\" height=\"63.36\"/>\n   </g>\n   <g id=\"patch_8\">\n    <path d=\"M 86.503774 98.925311 \nL 86.503774 35.7555 \n\" style=\"fill: none; stroke: #000000; stroke-width: 0.8; stroke-linejoin: miter; stroke-linecap: square\"/>\n   </g>\n   <g id=\"patch_9\">\n    <path d=\"M 149.673585 98.925311 \nL 149.673585 35.7555 \n\" style=\"fill: none; stroke: #000000; stroke-width: 0.8; stroke-linejoin: miter; stroke-linecap: square\"/>\n   </g>\n   <g id=\"patch_10\">\n    <path d=\"M 86.503774 98.925311 \nL 149.673585 98.925311 \n\" style=\"fill: none; stroke: #000000; stroke-width: 0.8; stroke-linejoin: miter; stroke-linecap: square\"/>\n   </g>\n   <g id=\"patch_11\">\n    <path d=\"M 86.503774 35.7555 \nL 149.673585 35.7555 \n\" style=\"fill: none; stroke: #000000; stroke-width: 0.8; stroke-linejoin: miter; stroke-linecap: square\"/>\n   </g>\n   <g id=\"text_2\">\n    <!-- bag -->\n    <g transform=\"translate(106.793679 16.318125) scale(0.12 -0.12)\">\n     <use xlink:href=\"#DejaVuSans-62\"/>\n     <use xlink:href=\"#DejaVuSans-61\" x=\"63.476562\"/>\n     <use xlink:href=\"#DejaVuSans-67\" x=\"124.755859\"/>\n    </g>\n    <!-- bag -->\n    <g transform=\"translate(106.793679 29.7555) scale(0.12 -0.12)\">\n     <use xlink:href=\"#DejaVuSans-62\"/>\n     <use xlink:href=\"#DejaVuSans-61\" x=\"63.476562\"/>\n     <use xlink:href=\"#DejaVuSans-67\" x=\"124.755859\"/>\n    </g>\n   </g>\n  </g>\n  <g id=\"axes_3\">\n   <g id=\"patch_12\">\n    <path d=\"M 162.307547 98.925311 \nL 225.477358 98.925311 \nL 225.477358 35.7555 \nL 162.307547 35.7555 \nz\n\" style=\"fill: #ffffff\"/>\n   </g>\n   <g clip-path=\"url(#pc9886900ad)\">\n    <image xlink:href=\"data:image/png;base64,\niVBORw0KGgoAAAANSUhEUgAAAFgAAABYCAYAAABxlTA0AAAE70lEQVR4nO2cXWwUVRTHZ6e7LbvLli4KFLLFlrBrkWqqtVjxwcSUIH6QEEv4TJFEY9SIGhMNiS9CE2M0Jj5ITMQH1AcfTExNEKNAU+RDK19Z09CUFookrf1YdukH7W53Bh9M/mcuKSbs9nRu6Pk9/Wb37uzNmTMnM3fuHU+9p+GmoSHZp2rg3paz8J49dfBIS4baHD0zMx27Q0y3O3C3IwFmxuvmn0/W1yjb6z87Aj+wrwie2lgLb332Y3jjybfh2edWwYd2jin7jbzQnn9nc0QymBkJMDOulojKD9VT961wD3z/XMcXHtK9fWvhI69dhy96ly6GgrttZb9Wft3MC8lgZiTAzLhaIg53x5TtgVK6ihiL0k2EOYdO8sPnVsL3r/kK/tI7O+EPNA1Maz/zQTKYGQkwMxJgZlytwYWF6gXUPaYf7i+ZgFeV9sHjvUvg5V66TLtv6RDcWjBP/aOefHuaO5LBzEiAmXG1RFiWenyT9jg82xmCV8f+hF9MLICHTLrF21rWBv8h86SyXzcHvCWDmZEAM+NqiZi4NkfZbhqgU3vpL2l443Z6HGRXUFkYdJSYY0m6KzRTo8p+1aGfmUUymBkJMDOulojiDp+y/WOGHiFVnr0Ad57iC33D8Obhanh8YDE8cmPI0AXJYGYkwMy4WiJGlqtjEdHX/4Ant9AEk47MKXhfpgQ+atGT55F+esZkDVJ5cRvJYGYkwMy4WiKcJcEwDKMgugx+7JPP4bHmV+ENdTQuURPsgf/c/ThDD/NHMpgZCTAzrpaIW9l16CDc5ymA+3upm82dD8LrHumGj5ZnmXuXG5LBzEiAmZEAM6NVDV7jH3ds0bEvazoJD5+YD//p2kNwj+2YIagRksHMSICZ0apE7EtVwN8IX5myjb9gEr56Xhe8xaZJgWYwqPzGHlOXFMwkksHMSICZ0apEPBbocmz5pmyTtqjLa4PUvq0uDr/qD6g/khJx9yIBZkarErHrwhb479Xf0xceuolITNAVQsikAaHGe0/AmyLb1R0PJaaxl3eGZDAzEmBmtCoRiRQ9GW7P0LjEaAOtQ/bvpRuN5i/K4LHCfrinTyaezBokwMxoVSKsLB3vkEmTUgZr6POK3efgralKeG3p37SfflmIOGuQADOjVYkIhmhtnHMkYs+G7+BfH6iH975C3V9x6JbxB02QDGZGAsyMBJgZrWrwo4uvwm84Vg9ajjxIfkoLCorX0Tzg82lalaQTksHMSICZ0apEJNI01us88j4PTexbvfAyvN1L3d/U9jK83KDHR24jGcyMBJgZrUrEX90RuF1On/+arIInM/RWFDPgeL3teeeb7PRBMpgZCTAzWpWIcBsN8Xyw4hn48c7l8JuTlBOx4dPwQL+WL/KWDOZGAsyMViWiaJhO89/i98NrV16Cj22jcV87QJ54mMYoaA68+0gGMyMBZkarEpEupjlol5//Er7u6c1w+0oHPHkwCq+aSzPidRq4lAxmRgLMjFYl4voT9FQ5+i29wmBZ/NRUzY33Y7S2+c3WrfCY8Q9D73JDMpgZCTAzEmBmtKrBhRdprHfR6cn/afkf733zItwbkMGeWYkEmBm9SsQIebqEVhAVTdHWMAwj2EtlIdwxfptW7iIZzIwEmBmtSsT4KlpTvOQjuoq43Rusbcck4q4dtBE7Pt09yx3JYGYkwMz8C8fCGKw4iRs2AAAAAElFTkSuQmCC\" id=\"imageae928a7204\" transform=\"scale(1 -1) translate(0 -63.36)\" x=\"162.307547\" y=\"-35.565311\" width=\"63.36\" height=\"63.36\"/>\n   </g>\n   <g id=\"patch_13\">\n    <path d=\"M 162.307547 98.925311 \nL 162.307547 35.7555 \n\" style=\"fill: none; stroke: #000000; stroke-width: 0.8; stroke-linejoin: miter; stroke-linecap: square\"/>\n   </g>\n   <g id=\"patch_14\">\n    <path d=\"M 225.477358 98.925311 \nL 225.477358 35.7555 \n\" style=\"fill: none; stroke: #000000; stroke-width: 0.8; stroke-linejoin: miter; stroke-linecap: square\"/>\n   </g>\n   <g id=\"patch_15\">\n    <path d=\"M 162.307547 98.925311 \nL 225.477358 98.925311 \n\" style=\"fill: none; stroke: #000000; stroke-width: 0.8; stroke-linejoin: miter; stroke-linecap: square\"/>\n   </g>\n   <g id=\"patch_16\">\n    <path d=\"M 162.307547 35.7555 \nL 225.477358 35.7555 \n\" style=\"fill: none; stroke: #000000; stroke-width: 0.8; stroke-linejoin: miter; stroke-linecap: square\"/>\n   </g>\n   <g id=\"text_3\">\n    <!-- dress -->\n    <g transform=\"translate(177.808703 16.318125) scale(0.12 -0.12)\">\n     <defs>\n      <path id=\"DejaVuSans-64\" d=\"M 2906 2969 \nL 2906 4863 \nL 3481 4863 \nL 3481 0 \nL 2906 0 \nL 2906 525 \nQ 2725 213 2448 61 \nQ 2172 -91 1784 -91 \nQ 1150 -91 751 415 \nQ 353 922 353 1747 \nQ 353 2572 751 3078 \nQ 1150 3584 1784 3584 \nQ 2172 3584 2448 3432 \nQ 2725 3281 2906 2969 \nz\nM 947 1747 \nQ 947 1113 1208 752 \nQ 1469 391 1925 391 \nQ 2381 391 2643 752 \nQ 2906 1113 2906 1747 \nQ 2906 2381 2643 2742 \nQ 2381 3103 1925 3103 \nQ 1469 3103 1208 2742 \nQ 947 2381 947 1747 \nz\n\" transform=\"scale(0.015625)\"/>\n      <path id=\"DejaVuSans-72\" d=\"M 2631 2963 \nQ 2534 3019 2420 3045 \nQ 2306 3072 2169 3072 \nQ 1681 3072 1420 2755 \nQ 1159 2438 1159 1844 \nL 1159 0 \nL 581 0 \nL 581 3500 \nL 1159 3500 \nL 1159 2956 \nQ 1341 3275 1631 3429 \nQ 1922 3584 2338 3584 \nQ 2397 3584 2469 3576 \nQ 2541 3569 2628 3553 \nL 2631 2963 \nz\n\" transform=\"scale(0.015625)\"/>\n      <path id=\"DejaVuSans-65\" d=\"M 3597 1894 \nL 3597 1613 \nL 953 1613 \nQ 991 1019 1311 708 \nQ 1631 397 2203 397 \nQ 2534 397 2845 478 \nQ 3156 559 3463 722 \nL 3463 178 \nQ 3153 47 2828 -22 \nQ 2503 -91 2169 -91 \nQ 1331 -91 842 396 \nQ 353 884 353 1716 \nQ 353 2575 817 3079 \nQ 1281 3584 2069 3584 \nQ 2775 3584 3186 3129 \nQ 3597 2675 3597 1894 \nz\nM 3022 2063 \nQ 3016 2534 2758 2815 \nQ 2500 3097 2075 3097 \nQ 1594 3097 1305 2825 \nQ 1016 2553 972 2059 \nL 3022 2063 \nz\n\" transform=\"scale(0.015625)\"/>\n      <path id=\"DejaVuSans-73\" d=\"M 2834 3397 \nL 2834 2853 \nQ 2591 2978 2328 3040 \nQ 2066 3103 1784 3103 \nQ 1356 3103 1142 2972 \nQ 928 2841 928 2578 \nQ 928 2378 1081 2264 \nQ 1234 2150 1697 2047 \nL 1894 2003 \nQ 2506 1872 2764 1633 \nQ 3022 1394 3022 966 \nQ 3022 478 2636 193 \nQ 2250 -91 1575 -91 \nQ 1294 -91 989 -36 \nQ 684 19 347 128 \nL 347 722 \nQ 666 556 975 473 \nQ 1284 391 1588 391 \nQ 1994 391 2212 530 \nQ 2431 669 2431 922 \nQ 2431 1156 2273 1281 \nQ 2116 1406 1581 1522 \nL 1381 1569 \nQ 847 1681 609 1914 \nQ 372 2147 372 2553 \nQ 372 3047 722 3315 \nQ 1072 3584 1716 3584 \nQ 2034 3584 2315 3537 \nQ 2597 3491 2834 3397 \nz\n\" transform=\"scale(0.015625)\"/>\n     </defs>\n     <use xlink:href=\"#DejaVuSans-64\"/>\n     <use xlink:href=\"#DejaVuSans-72\" x=\"63.476562\"/>\n     <use xlink:href=\"#DejaVuSans-65\" x=\"102.339844\"/>\n     <use xlink:href=\"#DejaVuSans-73\" x=\"163.863281\"/>\n     <use xlink:href=\"#DejaVuSans-73\" x=\"215.962891\"/>\n    </g>\n    <!-- dress -->\n    <g transform=\"translate(177.808703 29.7555) scale(0.12 -0.12)\">\n     <use xlink:href=\"#DejaVuSans-64\"/>\n     <use xlink:href=\"#DejaVuSans-72\" x=\"63.476562\"/>\n     <use xlink:href=\"#DejaVuSans-65\" x=\"102.339844\"/>\n     <use xlink:href=\"#DejaVuSans-73\" x=\"163.863281\"/>\n     <use xlink:href=\"#DejaVuSans-73\" x=\"215.962891\"/>\n    </g>\n   </g>\n  </g>\n  <g id=\"axes_4\">\n   <g id=\"patch_17\">\n    <path d=\"M 238.111321 98.925311 \nL 301.281132 98.925311 \nL 301.281132 35.7555 \nL 238.111321 35.7555 \nz\n\" style=\"fill: #ffffff\"/>\n   </g>\n   <g clip-path=\"url(#p462c1d99ac)\">\n    <image xlink:href=\"data:image/png;base64,\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\" id=\"imagee51c867f2d\" transform=\"scale(1 -1) translate(0 -63.36)\" x=\"238.111321\" y=\"-35.565311\" width=\"63.36\" height=\"63.36\"/>\n   </g>\n   <g id=\"patch_18\">\n    <path d=\"M 238.111321 98.925311 \nL 238.111321 35.7555 \n\" style=\"fill: none; stroke: #000000; stroke-width: 0.8; stroke-linejoin: miter; stroke-linecap: square\"/>\n   </g>\n   <g id=\"patch_19\">\n    <path d=\"M 301.281132 98.925311 \nL 301.281132 35.7555 \n\" style=\"fill: none; stroke: #000000; stroke-width: 0.8; stroke-linejoin: miter; stroke-linecap: square\"/>\n   </g>\n   <g id=\"patch_20\">\n    <path d=\"M 238.111321 98.925311 \nL 301.281132 98.925311 \n\" style=\"fill: none; stroke: #000000; stroke-width: 0.8; stroke-linejoin: miter; stroke-linecap: square\"/>\n   </g>\n   <g id=\"patch_21\">\n    <path d=\"M 238.111321 35.7555 \nL 301.281132 35.7555 \n\" style=\"fill: none; stroke: #000000; stroke-width: 0.8; stroke-linejoin: miter; stroke-linecap: square\"/>\n   </g>\n   <g id=\"text_4\">\n    <!-- dress -->\n    <g transform=\"translate(253.612476 16.318125) scale(0.12 -0.12)\">\n     <use xlink:href=\"#DejaVuSans-64\"/>\n     <use xlink:href=\"#DejaVuSans-72\" x=\"63.476562\"/>\n     <use xlink:href=\"#DejaVuSans-65\" x=\"102.339844\"/>\n     <use xlink:href=\"#DejaVuSans-73\" x=\"163.863281\"/>\n     <use xlink:href=\"#DejaVuSans-73\" x=\"215.962891\"/>\n    </g>\n    <!-- dress -->\n    <g transform=\"translate(253.612476 29.7555) scale(0.12 -0.12)\">\n     <use xlink:href=\"#DejaVuSans-64\"/>\n     <use xlink:href=\"#DejaVuSans-72\" x=\"63.476562\"/>\n     <use xlink:href=\"#DejaVuSans-65\" x=\"102.339844\"/>\n     <use xlink:href=\"#DejaVuSans-73\" x=\"163.863281\"/>\n     <use xlink:href=\"#DejaVuSans-73\" x=\"215.962891\"/>\n    </g>\n   </g>\n  </g>\n  <g id=\"axes_5\">\n   <g id=\"patch_22\">\n    <path d=\"M 313.915094 98.925311 \nL 377.084906 98.925311 \nL 377.084906 35.7555 \nL 313.915094 35.7555 \nz\n\" style=\"fill: #ffffff\"/>\n   </g>\n   <g clip-path=\"url(#p7726bad0f7)\">\n    <image xlink:href=\"data:image/png;base64,\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\" id=\"imagebe32547eb2\" transform=\"scale(1 -1) translate(0 -63.36)\" x=\"313.915094\" y=\"-35.565311\" width=\"63.36\" height=\"63.36\"/>\n   </g>\n   <g id=\"patch_23\">\n    <path d=\"M 313.915094 98.925311 \nL 313.915094 35.7555 \n\" style=\"fill: none; stroke: #000000; stroke-width: 0.8; stroke-linejoin: miter; stroke-linecap: square\"/>\n   </g>\n   <g id=\"patch_24\">\n    <path d=\"M 377.084906 98.925311 \nL 377.084906 35.7555 \n\" style=\"fill: none; stroke: #000000; stroke-width: 0.8; stroke-linejoin: miter; stroke-linecap: square\"/>\n   </g>\n   <g id=\"patch_25\">\n    <path d=\"M 313.915094 98.925311 \nL 377.084906 98.925311 \n\" style=\"fill: none; stroke: #000000; stroke-width: 0.8; stroke-linejoin: miter; stroke-linecap: square\"/>\n   </g>\n   <g id=\"patch_26\">\n    <path d=\"M 313.915094 35.7555 \nL 377.084906 35.7555 \n\" style=\"fill: none; stroke: #000000; stroke-width: 0.8; stroke-linejoin: miter; stroke-linecap: square\"/>\n   </g>\n   <g id=\"text_5\">\n    <!-- bag -->\n    <g transform=\"translate(334.205 16.318125) scale(0.12 -0.12)\">\n     <use xlink:href=\"#DejaVuSans-62\"/>\n     <use xlink:href=\"#DejaVuSans-61\" x=\"63.476562\"/>\n     <use xlink:href=\"#DejaVuSans-67\" x=\"124.755859\"/>\n    </g>\n    <!-- bag -->\n    <g transform=\"translate(334.205 29.7555) scale(0.12 -0.12)\">\n     <use xlink:href=\"#DejaVuSans-62\"/>\n     <use xlink:href=\"#DejaVuSans-61\" x=\"63.476562\"/>\n     <use xlink:href=\"#DejaVuSans-67\" x=\"124.755859\"/>\n    </g>\n   </g>\n  </g>\n  <g id=\"axes_6\">\n   <g id=\"patch_27\">\n    <path d=\"M 389.718868 98.925311 \nL 452.888679 98.925311 \nL 452.888679 35.7555 \nL 389.718868 35.7555 \nz\n\" style=\"fill: #ffffff\"/>\n   </g>\n   <g clip-path=\"url(#pcb993ab601)\">\n    <image xlink:href=\"data:image/png;base64,\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\" id=\"image23468c68c6\" transform=\"scale(1 -1) translate(0 -63.36)\" x=\"389.718868\" y=\"-35.565311\" width=\"63.36\" height=\"63.36\"/>\n   </g>\n   <g id=\"patch_28\">\n    <path d=\"M 389.718868 98.925311 \nL 389.718868 35.7555 \n\" style=\"fill: none; stroke: #000000; stroke-width: 0.8; stroke-linejoin: miter; stroke-linecap: square\"/>\n   </g>\n   <g id=\"patch_29\">\n    <path d=\"M 452.888679 98.925311 \nL 452.888679 35.7555 \n\" style=\"fill: none; stroke: #000000; stroke-width: 0.8; stroke-linejoin: miter; stroke-linecap: square\"/>\n   </g>\n   <g id=\"patch_30\">\n    <path d=\"M 389.718868 98.925311 \nL 452.888679 98.925311 \n\" style=\"fill: none; stroke: #000000; stroke-width: 0.8; stroke-linejoin: miter; stroke-linecap: square\"/>\n   </g>\n   <g id=\"patch_31\">\n    <path d=\"M 389.718868 35.7555 \nL 452.888679 35.7555 \n\" style=\"fill: none; stroke: #000000; stroke-width: 0.8; stroke-linejoin: miter; stroke-linecap: square\"/>\n   </g>\n   <g id=\"text_6\">\n    <!-- t-shirt -->\n    <g transform=\"translate(403.373149 16.318125) scale(0.12 -0.12)\">\n     <defs>\n      <path id=\"DejaVuSans-74\" d=\"M 1172 4494 \nL 1172 3500 \nL 2356 3500 \nL 2356 3053 \nL 1172 3053 \nL 1172 1153 \nQ 1172 725 1289 603 \nQ 1406 481 1766 481 \nL 2356 481 \nL 2356 0 \nL 1766 0 \nQ 1100 0 847 248 \nQ 594 497 594 1153 \nL 594 3053 \nL 172 3053 \nL 172 3500 \nL 594 3500 \nL 594 4494 \nL 1172 4494 \nz\n\" transform=\"scale(0.015625)\"/>\n      <path id=\"DejaVuSans-2d\" d=\"M 313 2009 \nL 1997 2009 \nL 1997 1497 \nL 313 1497 \nL 313 2009 \nz\n\" transform=\"scale(0.015625)\"/>\n      <path id=\"DejaVuSans-68\" d=\"M 3513 2113 \nL 3513 0 \nL 2938 0 \nL 2938 2094 \nQ 2938 2591 2744 2837 \nQ 2550 3084 2163 3084 \nQ 1697 3084 1428 2787 \nQ 1159 2491 1159 1978 \nL 1159 0 \nL 581 0 \nL 581 4863 \nL 1159 4863 \nL 1159 2956 \nQ 1366 3272 1645 3428 \nQ 1925 3584 2291 3584 \nQ 2894 3584 3203 3211 \nQ 3513 2838 3513 2113 \nz\n\" transform=\"scale(0.015625)\"/>\n      <path id=\"DejaVuSans-69\" d=\"M 603 3500 \nL 1178 3500 \nL 1178 0 \nL 603 0 \nL 603 3500 \nz\nM 603 4863 \nL 1178 4863 \nL 1178 4134 \nL 603 4134 \nL 603 4863 \nz\n\" transform=\"scale(0.015625)\"/>\n     </defs>\n     <use xlink:href=\"#DejaVuSans-74\"/>\n     <use xlink:href=\"#DejaVuSans-2d\" x=\"39.208984\"/>\n     <use xlink:href=\"#DejaVuSans-73\" x=\"75.292969\"/>\n     <use xlink:href=\"#DejaVuSans-68\" x=\"127.392578\"/>\n     <use xlink:href=\"#DejaVuSans-69\" x=\"190.771484\"/>\n     <use xlink:href=\"#DejaVuSans-72\" x=\"218.554688\"/>\n     <use xlink:href=\"#DejaVuSans-74\" x=\"259.667969\"/>\n    </g>\n    <!-- t-shirt -->\n    <g transform=\"translate(403.373149 29.7555) scale(0.12 -0.12)\">\n     <use xlink:href=\"#DejaVuSans-74\"/>\n     <use xlink:href=\"#DejaVuSans-2d\" x=\"39.208984\"/>\n     <use xlink:href=\"#DejaVuSans-73\" x=\"75.292969\"/>\n     <use xlink:href=\"#DejaVuSans-68\" x=\"127.392578\"/>\n     <use xlink:href=\"#DejaVuSans-69\" x=\"190.771484\"/>\n     <use xlink:href=\"#DejaVuSans-72\" x=\"218.554688\"/>\n     <use xlink:href=\"#DejaVuSans-74\" x=\"259.667969\"/>\n    </g>\n   </g>\n  </g>\n  <g id=\"axes_7\">\n   <g id=\"patch_32\">\n    <path d=\"M 465.522642 98.925311 \nL 528.692453 98.925311 \nL 528.692453 35.7555 \nL 465.522642 35.7555 \nz\n\" style=\"fill: #ffffff\"/>\n   </g>\n   <g clip-path=\"url(#pf177aa5dc0)\">\n    <image xlink:href=\"data:image/png;base64,\niVBORw0KGgoAAAANSUhEUgAAAFgAAABYCAYAAABxlTA0AAAFsklEQVR4nO2bS2yUVRTH7/eYR6dDH5QOFsUUsDPBKK3USo2P1FgkbAgxatSFG3eG6MIaTUxMXEhCABMbgkZcQIwmgm4k0RgTUWM02ogLFaQUaOQhUGnLtB2mnZnvc+X5n1tm+kAPEHJ+q/+duY9v/r33zLn3Tp1u57HQKGK41/oBbnTUYGHUYGHUYGHUYGHUYGHUYGHUYGHUYGHUYGHUYGHUYGHUYGHUYGHUYGHUYGHUYGHUYGHUYGHUYGHUYGF8XnATCej6OtJhVcxqFNSiXhBFF2GU/b1KuKx22L11IYn63mRg9Rt6Dtqw9vx1w/pyAjZGEX0FMc/ql/cVsGf0ckXS7lQJQ0TQ3s0X0E8BdS4rlzC+MzaB9kYRRQ0Wxvcyt1GhuLCadMCn/LSfppTiLLKwP5G15CYm0X7iEunIFJac8a0IZUxY4TcwRfRrElWo7mHwMBbFeHwMY4xxHFaPjckilHtxnBVYSGI+XPZ8gR3iqFoB4+sMFkYNFsY35y9QwR08Sdrx8E0aFopWI7fIvln9CHQU2kSxZK2FxerkM4utfkfSyFaKSbwesmkQsAQh5BGGrWpnWoSoPY6lnDyF0BX6LHSkEB7dAguPPFOZlkV4Y3kUuEejGiKuGmqwML5pqKPC+MNp0rERTPlC0k7ccykWPtifaKoWSy7fgKVVTE2RXr50iHT0FSxXY4xJ7fwZBRdjePW1GC/PspMklnVpCKHu3KY1Vr87NveiHoslr53YSPrIwBLSsbMIb7Fh1Pcm7SzCzyGOBWhiao8vxMcwiihqsDBqsDBOt/s4BZb+Xe30xnOdB0hnYn9ZjaIO0pVD+ZtJ51ggur+6n3Sc5U0JFzoTsWN7x/YXSDe9+f0cP8LseDU1pA9vy5D+aO1O0vfEIqYcpRApWzbIW+8dLaLNaAkHYO+c6SKtM1gYNVgYp9J/GbmtK0kfe6rOei/dOUh6feo30tUuUqixEg5lCiFCQdLDMos7SN+MMeaZmr/LPuTW4RWk9w4ijA33Ix2qGcBcWfQ7DpeMMcb95pey/VbCYYdQQ892kI5uPG/V25L5hPSDcbzecfAJjD2vkZV5owYLY2URFc9jZyC8t5X06R7s/j5u30X64ORS0isiWGZxxz5E+rNYX3aMW/0R0m2xWNk6c+VUEee+m891k/7iuzbSzfuR6fhfsd3lDDgdd5IefAmv6wwWRg0Wxg4Rc2WeoST7ObKA11s+JT1YaLTq8azCY/dUP44tJ530kKk0RS+Sdh1sCHg2Y4wxC1xkLo1+lnSDi2wjHcEmKeLYG6BKPDqwlvRUgMxj4NtmPNecelKuGDVYGP9KMgeHfZNb10lBqUxtYxJb60iv3jNKujkyatXbMdRFundJH+mJAOOlo2dJjwbY/58uIANJTAsREZateOwqOc82QAcuYaewqe9p0j1tX5Ju8NjNszHmpqox0suqcM4dvot5qzNYGDVYmIpnEVcDb2WLVS4dPkq6pQ9h4e4FJ0i7bIl/dmEV6SdTP5Guc3NWv9kAy39dApnHqt3Pk25+9YdZn5dnQ8YYsziBkHEyi2utRRvwOXQGC6MGC3NNQ8RMRL5uIv3Wsn2k94/fQfqBBG5N2tlv03ZnU1ZffKPxxh/rSTduODKvZ/JuT1vlh/binILf+rzd2kZaZ7AwarAwarAw/uxV/mcc/u8AlcN/oQsxbd32HtKr1yAFer8X8fTlFz8k/evELVZfmQR2fyNnkE7xoyY3jlQuyNu3x/9SOtRvlfdte4R0ETdkpjGHlE9nsDBqsDDXbZr2Xzj2wV1W+b3OPaS3tN1HOhjDYQ2/SQ5L7NCKhzEe3qa/VwGdwcKowcLckCHiekJnsDBqsDBqsDBqsDBqsDBqsDBqsDBqsDBqsDBqsDBqsDBqsDBqsDBqsDBqsDBqsDBqsDBqsDBqsDBqsDBqsDBqsDBqsDBqsDD/ACFseauQCANiAAAAAElFTkSuQmCC\" id=\"image089ff7c573\" transform=\"scale(1 -1) translate(0 -63.36)\" x=\"465.522642\" y=\"-35.565311\" width=\"63.36\" height=\"63.36\"/>\n   </g>\n   <g id=\"patch_33\">\n    <path d=\"M 465.522642 98.925311 \nL 465.522642 35.7555 \n\" style=\"fill: none; stroke: #000000; stroke-width: 0.8; stroke-linejoin: miter; stroke-linecap: square\"/>\n   </g>\n   <g id=\"patch_34\">\n    <path d=\"M 528.692453 98.925311 \nL 528.692453 35.7555 \n\" style=\"fill: none; stroke: #000000; stroke-width: 0.8; stroke-linejoin: miter; stroke-linecap: square\"/>\n   </g>\n   <g id=\"patch_35\">\n    <path d=\"M 465.522642 98.925311 \nL 528.692453 98.925311 \n\" style=\"fill: none; stroke: #000000; stroke-width: 0.8; stroke-linejoin: miter; stroke-linecap: square\"/>\n   </g>\n   <g id=\"patch_36\">\n    <path d=\"M 465.522642 35.7555 \nL 528.692453 35.7555 \n\" style=\"fill: none; stroke: #000000; stroke-width: 0.8; stroke-linejoin: miter; stroke-linecap: square\"/>\n   </g>\n   <g id=\"text_7\">\n    <!-- sneaker -->\n    <g transform=\"translate(473.39536 16.318125) scale(0.12 -0.12)\">\n     <defs>\n      <path id=\"DejaVuSans-6e\" d=\"M 3513 2113 \nL 3513 0 \nL 2938 0 \nL 2938 2094 \nQ 2938 2591 2744 2837 \nQ 2550 3084 2163 3084 \nQ 1697 3084 1428 2787 \nQ 1159 2491 1159 1978 \nL 1159 0 \nL 581 0 \nL 581 3500 \nL 1159 3500 \nL 1159 2956 \nQ 1366 3272 1645 3428 \nQ 1925 3584 2291 3584 \nQ 2894 3584 3203 3211 \nQ 3513 2838 3513 2113 \nz\n\" transform=\"scale(0.015625)\"/>\n      <path id=\"DejaVuSans-6b\" d=\"M 581 4863 \nL 1159 4863 \nL 1159 1991 \nL 2875 3500 \nL 3609 3500 \nL 1753 1863 \nL 3688 0 \nL 2938 0 \nL 1159 1709 \nL 1159 0 \nL 581 0 \nL 581 4863 \nz\n\" transform=\"scale(0.015625)\"/>\n     </defs>\n     <use xlink:href=\"#DejaVuSans-73\"/>\n     <use xlink:href=\"#DejaVuSans-6e\" x=\"52.099609\"/>\n     <use xlink:href=\"#DejaVuSans-65\" x=\"115.478516\"/>\n     <use xlink:href=\"#DejaVuSans-61\" x=\"177.001953\"/>\n     <use xlink:href=\"#DejaVuSans-6b\" x=\"238.28125\"/>\n     <use xlink:href=\"#DejaVuSans-65\" x=\"292.566406\"/>\n     <use xlink:href=\"#DejaVuSans-72\" x=\"354.089844\"/>\n    </g>\n    <!-- sneaker -->\n    <g transform=\"translate(473.39536 29.7555) scale(0.12 -0.12)\">\n     <use xlink:href=\"#DejaVuSans-73\"/>\n     <use xlink:href=\"#DejaVuSans-6e\" x=\"52.099609\"/>\n     <use xlink:href=\"#DejaVuSans-65\" x=\"115.478516\"/>\n     <use xlink:href=\"#DejaVuSans-61\" x=\"177.001953\"/>\n     <use xlink:href=\"#DejaVuSans-6b\" x=\"238.28125\"/>\n     <use xlink:href=\"#DejaVuSans-65\" x=\"292.566406\"/>\n     <use xlink:href=\"#DejaVuSans-72\" x=\"354.089844\"/>\n    </g>\n   </g>\n  </g>\n  <g id=\"axes_8\">\n   <g id=\"patch_37\">\n    <path d=\"M 541.326415 98.925311 \nL 604.496226 98.925311 \nL 604.496226 35.7555 \nL 541.326415 35.7555 \nz\n\" style=\"fill: #ffffff\"/>\n   </g>\n   <g clip-path=\"url(#pafb31c7af0)\">\n    <image xlink:href=\"data:image/png;base64,\niVBORw0KGgoAAAANSUhEUgAAAFgAAABYCAYAAABxlTA0AAADXElEQVR4nO2cO08UURiG98wFWNkQwBsIolEgoOKlIAE1sdHSxlBQWPgH7K39CTa2FOofMCR2dhJjTERjYYBExagI4i6wu8DuzNh93zk4YzDwYqLvU71zO/Pts3POnJmwmKtmLMkRGN7fLuBfh4LBUDAYCgZDwWAoGAwFg6FgMBQMhoLBUDAYCgZDwWAoGAwFg6FgMBQMhoLBUDAYCgZDwWAoGAwFg6FgMBQMhoLBUDAYCgZDwWAoGExgL5iwQbLXe0xyvb05s4HEM5oDzSbWv4qNff0eTaLr/WrdactEui3xta240U89t7cRpa6vFUJnOW7Q8/vrcWotkbVPVh12/qVG67O3TL3XGlMrJLsGBYOhYDBBbuSsLCwN6Vhba9YxZaPNPSjx0n91UGuLU9fnrKEraYzsBXe3UI/3rBzXtYFwXo8J13R9pLePXFDZUq91p7H32ziktTR1lCX7fvrnaAjce8byp1bJQ6c+SP7YfVIyr2AwFAwmiPLaf4oD2vXzX7X7BVX3oMTotkqPdpvCnLZVL6SfMFzRKZfZMstKrNmYsXqpt6n58Jh2xScDk5Ivv74h+XrXG6fdt2udkk8Xvkh+utgvefV+t+RyhxbSWFInwbo7NPZUtMjqIz1H18yc1p4jUCgYjLkWjst1n9Trv9s3lR+3RiW3P3wpOaltpu2+bYITxyVX+g9KXjqjT2kdL3TsKnfq7GJhxG2r6eiq5ObHLZLbJqZ2VON24BUMhoLBBJnDgrGfDrJ/zmx3s/jSed1gvewxU9Pppwicd0255ZvDkhdHta7Beyva7IX9kqsH9Kmhdfq75PK42+6V7lnJ7yZqqbVkfV67xiRypz3G99O3WcfzCgZDwWBM5r8z2OYQkcXC7YuS/U09vtSvOSy532/P3Wd6+uEhyfN3dEJf+abvS/oe6EylVtCunH8+47QbFUt/VPuOsdzxCgZDwWCyh4hdxDs3KDkq6ANBMPvZ2a/ee0RysS8vuamod+h9k68k7/RhZi/gFQyGgsHsyRDxP8MrGAwFg6FgMBQMhoLBUDAYCgZDwWAoGAwFg6FgMBQMhoLBUDAYCgZDwWAoGAwFg6FgMBQMhoLBUDAYCgZDwWAoGAwFg6FgMBQMhoLBUDAYCgZDwWAoGAwFg/kJFRPEXu7Y6AYAAAAASUVORK5CYII=\" id=\"image891c6f084a\" transform=\"scale(1 -1) translate(0 -63.36)\" x=\"541.326415\" y=\"-35.565311\" width=\"63.36\" height=\"63.36\"/>\n   </g>\n   <g id=\"patch_38\">\n    <path d=\"M 541.326415 98.925311 \nL 541.326415 35.7555 \n\" style=\"fill: none; stroke: #000000; stroke-width: 0.8; stroke-linejoin: miter; stroke-linecap: square\"/>\n   </g>\n   <g id=\"patch_39\">\n    <path d=\"M 604.496226 98.925311 \nL 604.496226 35.7555 \n\" style=\"fill: none; stroke: #000000; stroke-width: 0.8; stroke-linejoin: miter; stroke-linecap: square\"/>\n   </g>\n   <g id=\"patch_40\">\n    <path d=\"M 541.326415 98.925311 \nL 604.496226 98.925311 \n\" style=\"fill: none; stroke: #000000; stroke-width: 0.8; stroke-linejoin: miter; stroke-linecap: square\"/>\n   </g>\n   <g id=\"patch_41\">\n    <path d=\"M 541.326415 35.7555 \nL 604.496226 35.7555 \n\" style=\"fill: none; stroke: #000000; stroke-width: 0.8; stroke-linejoin: miter; stroke-linecap: square\"/>\n   </g>\n   <g id=\"text_8\">\n    <!-- sandal -->\n    <g transform=\"translate(553.153508 16.318125) scale(0.12 -0.12)\">\n     <defs>\n      <path id=\"DejaVuSans-6c\" d=\"M 603 4863 \nL 1178 4863 \nL 1178 0 \nL 603 0 \nL 603 4863 \nz\n\" transform=\"scale(0.015625)\"/>\n     </defs>\n     <use xlink:href=\"#DejaVuSans-73\"/>\n     <use xlink:href=\"#DejaVuSans-61\" x=\"52.099609\"/>\n     <use xlink:href=\"#DejaVuSans-6e\" x=\"113.378906\"/>\n     <use xlink:href=\"#DejaVuSans-64\" x=\"176.757812\"/>\n     <use xlink:href=\"#DejaVuSans-61\" x=\"240.234375\"/>\n     <use xlink:href=\"#DejaVuSans-6c\" x=\"301.513672\"/>\n    </g>\n    <!-- sandal -->\n    <g transform=\"translate(553.153508 29.7555) scale(0.12 -0.12)\">\n     <use xlink:href=\"#DejaVuSans-73\"/>\n     <use xlink:href=\"#DejaVuSans-61\" x=\"52.099609\"/>\n     <use xlink:href=\"#DejaVuSans-6e\" x=\"113.378906\"/>\n     <use xlink:href=\"#DejaVuSans-64\" x=\"176.757812\"/>\n     <use xlink:href=\"#DejaVuSans-61\" x=\"240.234375\"/>\n     <use xlink:href=\"#DejaVuSans-6c\" x=\"301.513672\"/>\n    </g>\n   </g>\n  </g>\n  <g id=\"axes_9\">\n   <g id=\"patch_42\">\n    <path d=\"M 617.130189 98.925311 \nL 680.3 98.925311 \nL 680.3 35.7555 \nL 617.130189 35.7555 \nz\n\" style=\"fill: #ffffff\"/>\n   </g>\n   <g clip-path=\"url(#p0040037ff9)\">\n    <image xlink:href=\"data:image/png;base64,\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\" id=\"image67609bc3ea\" transform=\"scale(1 -1) translate(0 -63.36)\" x=\"617.130189\" y=\"-35.565311\" width=\"63.36\" height=\"63.36\"/>\n   </g>\n   <g id=\"patch_43\">\n    <path d=\"M 617.130189 98.925311 \nL 617.130189 35.7555 \n\" style=\"fill: none; stroke: #000000; stroke-width: 0.8; stroke-linejoin: miter; stroke-linecap: square\"/>\n   </g>\n   <g id=\"patch_44\">\n    <path d=\"M 680.3 98.925311 \nL 680.3 35.7555 \n\" style=\"fill: none; stroke: #000000; stroke-width: 0.8; stroke-linejoin: miter; stroke-linecap: square\"/>\n   </g>\n   <g id=\"patch_45\">\n    <path d=\"M 617.130189 98.925311 \nL 680.3 98.925311 \n\" style=\"fill: none; stroke: #000000; stroke-width: 0.8; stroke-linejoin: miter; stroke-linecap: square\"/>\n   </g>\n   <g id=\"patch_46\">\n    <path d=\"M 617.130189 35.7555 \nL 680.3 35.7555 \n\" style=\"fill: none; stroke: #000000; stroke-width: 0.8; stroke-linejoin: miter; stroke-linecap: square\"/>\n   </g>\n   <g id=\"text_9\">\n    <!-- sneaker -->\n    <g transform=\"translate(625.002907 16.318125) scale(0.12 -0.12)\">\n     <use xlink:href=\"#DejaVuSans-73\"/>\n     <use xlink:href=\"#DejaVuSans-6e\" x=\"52.099609\"/>\n     <use xlink:href=\"#DejaVuSans-65\" x=\"115.478516\"/>\n     <use xlink:href=\"#DejaVuSans-61\" x=\"177.001953\"/>\n     <use xlink:href=\"#DejaVuSans-6b\" x=\"238.28125\"/>\n     <use xlink:href=\"#DejaVuSans-65\" x=\"292.566406\"/>\n     <use xlink:href=\"#DejaVuSans-72\" x=\"354.089844\"/>\n    </g>\n    <!-- sneaker -->\n    <g transform=\"translate(625.002907 29.7555) scale(0.12 -0.12)\">\n     <use xlink:href=\"#DejaVuSans-73\"/>\n     <use xlink:href=\"#DejaVuSans-6e\" x=\"52.099609\"/>\n     <use xlink:href=\"#DejaVuSans-65\" x=\"115.478516\"/>\n     <use xlink:href=\"#DejaVuSans-61\" x=\"177.001953\"/>\n     <use xlink:href=\"#DejaVuSans-6b\" x=\"238.28125\"/>\n     <use xlink:href=\"#DejaVuSans-65\" x=\"292.566406\"/>\n     <use xlink:href=\"#DejaVuSans-72\" x=\"354.089844\"/>\n    </g>\n   </g>\n  </g>\n </g>\n <defs>\n  <clipPath id=\"pbffacf17de\">\n   <rect x=\"10.7\" y=\"35.7555\" width=\"63.169811\" height=\"63.169811\"/>\n  </clipPath>\n  <clipPath id=\"p8989386bd1\">\n   <rect x=\"86.503774\" y=\"35.7555\" width=\"63.169811\" height=\"63.169811\"/>\n  </clipPath>\n  <clipPath id=\"pc9886900ad\">\n   <rect x=\"162.307547\" y=\"35.7555\" width=\"63.169811\" height=\"63.169811\"/>\n  </clipPath>\n  <clipPath id=\"p462c1d99ac\">\n   <rect x=\"238.111321\" y=\"35.7555\" width=\"63.169811\" height=\"63.169811\"/>\n  </clipPath>\n  <clipPath id=\"p7726bad0f7\">\n   <rect x=\"313.915094\" y=\"35.7555\" width=\"63.169811\" height=\"63.169811\"/>\n  </clipPath>\n  <clipPath id=\"pcb993ab601\">\n   <rect x=\"389.718868\" y=\"35.7555\" width=\"63.169811\" height=\"63.169811\"/>\n  </clipPath>\n  <clipPath id=\"pf177aa5dc0\">\n   <rect x=\"465.522642\" y=\"35.7555\" width=\"63.169811\" height=\"63.169811\"/>\n  </clipPath>\n  <clipPath id=\"pafb31c7af0\">\n   <rect x=\"541.326415\" y=\"35.7555\" width=\"63.169811\" height=\"63.169811\"/>\n  </clipPath>\n  <clipPath id=\"p0040037ff9\">\n   <rect x=\"617.130189\" y=\"35.7555\" width=\"63.169811\" height=\"63.169811\"/>\n  </clipPath>\n </defs>\n</svg>\n",
      "text/plain": [
       "<Figure size 1200x1200 with 9 Axes>"
      ]
     },
     "metadata": {},
     "output_type": "display_data"
    }
   ],
   "source": [
    "X, y = iter(test_iter).next()\n",
    "\n",
    "true_labels = get_fashion_mnist_labels(y.numpy())\n",
    "pred_labels = get_fashion_mnist_labels(net(X).argmax(dim=1).numpy())\n",
    "titles = [true + '\\n' + pred for true, pred in zip(true_labels, pred_labels)]\n",
    "\n",
    "show_fashion_mnist(X[30:39], titles[30:39])\n"
   ]
  }
 ],
 "metadata": {
  "kernelspec": {
   "display_name": "pytorch",
   "language": "python",
   "name": "python3"
  },
  "language_info": {
   "codemirror_mode": {
    "name": "ipython",
    "version": 3
   },
   "file_extension": ".py",
   "mimetype": "text/x-python",
   "name": "python",
   "nbconvert_exporter": "python",
   "pygments_lexer": "ipython3",
   "version": "3.9.13"
  },
  "orig_nbformat": 4,
  "vscode": {
   "interpreter": {
    "hash": "c9bb90c8c31d02c70dc2c25559c9d82f9e11e69c39856b10e40706be7daafd48"
   }
  }
 },
 "nbformat": 4,
 "nbformat_minor": 2
}
